{
  "nbformat": 4,
  "nbformat_minor": 0,
  "metadata": {
    "colab": {
      "name": "Ohi_ex1_functions.ipynb",
      "provenance": []
    },
    "kernelspec": {
      "name": "python3",
      "display_name": "Python 3"
    }
  },
  "cells": [
    {
      "cell_type": "markdown",
      "metadata": {
        "id": "K4-M9C8DMqTg"
      },
      "source": [
        "Write a Python function that takes a number as a parameter and check the number is prime or not"
      ]
    },
    {
      "cell_type": "code",
      "metadata": {
        "id": "-kV1uzt9MuWf",
        "colab": {
          "base_uri": "https://localhost:8080/",
          "height": 50
        },
        "outputId": "990db2b7-d19b-4b2b-d226-6643a605c750"
      },
      "source": [
        "def prime(a):\n",
        "    if(a==1):\n",
        "        print('it is not a prime number')\n",
        "    elif(a==2):\n",
        "        print('it is a prime number')\n",
        "    else:\n",
        "         for i in range(2,a):\n",
        "            if(a%i==0):\n",
        "              print('it is not a prime number')\n",
        "              break\n",
        "         else:\n",
        "          print('it is a prime number')            \n",
        "print(prime(11))"
      ],
      "execution_count": null,
      "outputs": [
        {
          "output_type": "stream",
          "text": [
            "it is a prime number\n",
            "None\n"
          ],
          "name": "stdout"
        }
      ]
    },
    {
      "cell_type": "markdown",
      "metadata": {
        "id": "NzTyNW0FM0X2"
      },
      "source": [
        "Write a Python function that checks whether a passed string is palindrome or no"
      ]
    },
    {
      "cell_type": "code",
      "metadata": {
        "id": "64byp0pdM3Zw"
      },
      "source": [
        "def Palindrome(a):\n",
        "  \n",
        " s=len(a)\n",
        " for i in range(0,s):\n",
        "     if i==s:\n",
        "        s=s-1\n",
        "     else:\n",
        "        print('it is not a palindrome')\n",
        " print('it is a palindrome')\n",
        "\n",
        "\n",
        " print(Palindrome('MEEM'))"
      ],
      "execution_count": null,
      "outputs": []
    },
    {
      "cell_type": "markdown",
      "metadata": {
        "id": "sNEcEKK9M7BG"
      },
      "source": [
        "Write a Python program to reverse a string"
      ]
    },
    {
      "cell_type": "code",
      "metadata": {
        "id": "2fPlXq9SM_ed",
        "colab": {
          "base_uri": "https://localhost:8080/",
          "height": 34
        },
        "outputId": "d12fff8b-6f2b-40dc-a536-a16b22a7f007"
      },
      "source": [
        "def reverse(a): \n",
        "  rev= \"\" \n",
        "  \n",
        "  for i in a: \n",
        "     rev=i+rev\n",
        "  \n",
        "  return rev\n",
        "\n",
        "print(reverse('lict'))"
      ],
      "execution_count": null,
      "outputs": [
        {
          "output_type": "stream",
          "text": [
            "tcil\n"
          ],
          "name": "stdout"
        }
      ]
    },
    {
      "cell_type": "markdown",
      "metadata": {
        "id": "O4F-fPmFNGpP"
      },
      "source": [
        "Write a Python program to get the Fibonacci series between 0 to 50."
      ]
    },
    {
      "cell_type": "code",
      "metadata": {
        "id": "qk9ZhbkTNHRY",
        "colab": {
          "base_uri": "https://localhost:8080/",
          "height": 54
        },
        "outputId": "abb710d9-36b3-4426-e269-73eb18957883"
      },
      "source": [
        "def fibonacci(a):\n",
        " \n",
        " a=[]\n",
        " n1=0\n",
        " n2=1\n",
        " a.append(n1)\n",
        " a.append(n2)\n",
        " \n",
        " for i in range (n1,50):\n",
        "       nth = n1 + n2\n",
        "       n1 = n2\n",
        "       n2 = nth\n",
        "       \n",
        "       a.append(n2)\n",
        "\n",
        " return(a)\n",
        "\n",
        "\n",
        "\n",
        "print(fibonacci(5))"
      ],
      "execution_count": null,
      "outputs": [
        {
          "output_type": "stream",
          "text": [
            "[0, 1, 1, 2, 3, 5, 8, 13, 21, 34, 55, 89, 144, 233, 377, 610, 987, 1597, 2584, 4181, 6765, 10946, 17711, 28657, 46368, 75025, 121393, 196418, 317811, 514229, 832040, 1346269, 2178309, 3524578, 5702887, 9227465, 14930352, 24157817, 39088169, 63245986, 102334155, 165580141, 267914296, 433494437, 701408733, 1134903170, 1836311903, 2971215073, 4807526976, 7778742049, 12586269025, 20365011074]\n"
          ],
          "name": "stdout"
        }
      ]
    }
  ]
}